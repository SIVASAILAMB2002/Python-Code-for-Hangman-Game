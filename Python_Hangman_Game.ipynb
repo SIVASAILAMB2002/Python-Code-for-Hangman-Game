{
 "cells": [
  {
   "cell_type": "code",
   "execution_count": 1,
   "metadata": {},
   "outputs": [
    {
     "name": "stdout",
     "output_type": "stream",
     "text": [
      "you're left with 9 turns\n",
      "\n",
      "Make a guess: p\n",
      "p*****you're left with 8 turns\n",
      "\n",
      "Make a guess: y\n",
      "py****you're left with 7 turns\n",
      "\n",
      "Make a guess: t\n",
      "pyt***you're left with 6 turns\n",
      "\n",
      "Make a guess: h\n",
      "pyth**you're left with 5 turns\n",
      "\n",
      "Make a guess: o\n",
      "pytho*you're left with 4 turns\n",
      "\n",
      "Make a guess: n\n",
      "python\n",
      " Hurray!! you won...\n"
     ]
    }
   ],
   "source": [
    "from random import choice\n",
    "\n",
    "def word_generator():\n",
    "    with open(\"wordlist.txt\",\"r\") as f:\n",
    "        lines=f.readlines()\n",
    "    f.close()\n",
    "    lines= [i.strip(\"\\n\") for i in lines]\n",
    "    return choice(lines)\n",
    "\n",
    "word_generator()\n",
    "\n",
    "word= word_generator()\n",
    "guessed=\"\"\n",
    "turns=int(len(word)*1.5)\n",
    "\n",
    "while(True):    \n",
    "    print(\"you're left with {} turns\".format(turns))\n",
    "    inp=input(\"\\nMake a guess: \")\n",
    "    turns=turns-1\n",
    "    if inp in word:\n",
    "        guessed=guessed+inp\n",
    "    unguessed_char=0\n",
    "    for i in word:\n",
    "        if i in guessed:\n",
    "            print(i,end=\"\")\n",
    "        else:\n",
    "            unguessed_char+=1\n",
    "            print(\"*\",end=\"\")\n",
    "    if unguessed_char==0:\n",
    "        print(\"\\n Hurray!! you won...\")\n",
    "        break\n",
    "    if turns==0:\n",
    "        print(\"\\ntoin toin toin.... you ran out of attempt\")\n",
    "        break"
   ]
  },
  {
   "cell_type": "code",
   "execution_count": null,
   "metadata": {},
   "outputs": [],
   "source": []
  }
 ],
 "metadata": {
  "kernelspec": {
   "display_name": "Python 3",
   "language": "python",
   "name": "python3"
  },
  "language_info": {
   "codemirror_mode": {
    "name": "ipython",
    "version": 3
   },
   "file_extension": ".py",
   "mimetype": "text/x-python",
   "name": "python",
   "nbconvert_exporter": "python",
   "pygments_lexer": "ipython3",
   "version": "3.8.3"
  }
 },
 "nbformat": 4,
 "nbformat_minor": 4
}
